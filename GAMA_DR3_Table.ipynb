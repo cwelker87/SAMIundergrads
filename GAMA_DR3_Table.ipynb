{
 "cells": [
  {
   "cell_type": "code",
   "execution_count": null,
   "id": "9c405682",
   "metadata": {},
   "outputs": [],
   "source": [
    "import pandas as pd\n",
    "import numpy as np\n",
    "import matplotlib.pyplot as plt\n",
    "from mpl_toolkits.mplot3d import Axes3D\n",
    "\n",
    "df = pd.read_csv('GAMA_zwoTgw.csv')\n",
    "\n",
    "df"
   ]
  },
  {
   "cell_type": "code",
   "execution_count": null,
   "id": "a7e3aeeb",
   "metadata": {},
   "outputs": [],
   "source": [
    "df.head(10)      #argument for HEAD() gives number of rows you want to display -- TAIL() gives columns instead"
   ]
  },
  {
   "cell_type": "code",
   "execution_count": null,
   "id": "d0cd0742",
   "metadata": {},
   "outputs": [],
   "source": [
    "df_new = df.iloc[:,[0,1,9,10]]        #df_new = df[['CATAID','Z','RA','DEC']]\n",
    "\n",
    "df_new"
   ]
  },
  {
   "cell_type": "code",
   "execution_count": null,
   "id": "f3664e6d",
   "metadata": {},
   "outputs": [],
   "source": [
    "df_100 = df_new.head(100)\n",
    "\n",
    "df_100"
   ]
  },
  {
   "cell_type": "code",
   "execution_count": null,
   "id": "7c4f5157",
   "metadata": {},
   "outputs": [],
   "source": [
    "Z = np.array(df_100.iloc[:,[1]])\n",
    "RA = np.array(df_100.iloc[:,[2]])\n",
    "DEC = np.array(df_100.iloc[:,[3]])\n",
    "\n",
    "print(np.shape(Z))"
   ]
  },
  {
   "cell_type": "code",
   "execution_count": null,
   "id": "b62409c0",
   "metadata": {},
   "outputs": [],
   "source": [
    "Ho = 67.8\n",
    "sl = 2.99792458e+5\n",
    "\n",
    "numer = ((1+Z)**2))-1\n",
    "denom = ((1+Z)**2)+1\n",
    "H = sl/Ho\n",
    " \n",
    "radius = (numer/denom)*H    # gives radius\n",
    "\n",
    "for i in Z:\n",
    "    d = radius\n",
    "    \n",
    "    \n",
    "np.shape(d)"
   ]
  },
  {
   "cell_type": "code",
   "execution_count": null,
   "id": "06f4457a",
   "metadata": {},
   "outputs": [],
   "source": [
    "RArad = RA * (np.pi/180)\n",
    "DECrad = DEC * (np.pi/180)"
   ]
  },
  {
   "cell_type": "code",
   "execution_count": null,
   "id": "32202bc9",
   "metadata": {},
   "outputs": [],
   "source": [
    "cos = np.cos\n",
    "sin = np.sin\n",
    "\n",
    "x = d*cos(RArad)*cos(DECrad)\n",
    "y = d*sin(RArad)*cos(DECrad)\n",
    "z = d*sin(DECrad)"
   ]
  },
  {
   "cell_type": "code",
   "execution_count": null,
   "id": "c0052d44",
   "metadata": {},
   "outputs": [],
   "source": [
    "fig = plt.figure()\n",
    "ax = fig.add_subplot(111, projection='3d')\n",
    "ax.scatter(x,y,z)\n",
    "plt.show()"
   ]
  },
  {
   "cell_type": "code",
   "execution_count": null,
   "id": "b5f8c544",
   "metadata": {},
   "outputs": [],
   "source": []
  }
 ],
 "metadata": {
  "kernelspec": {
   "display_name": "Python 3 (ipykernel)",
   "language": "python",
   "name": "python3"
  },
  "language_info": {
   "codemirror_mode": {
    "name": "ipython",
    "version": 3
   },
   "file_extension": ".py",
   "mimetype": "text/x-python",
   "name": "python",
   "nbconvert_exporter": "python",
   "pygments_lexer": "ipython3",
   "version": "3.10.4"
  }
 },
 "nbformat": 4,
 "nbformat_minor": 5
}
