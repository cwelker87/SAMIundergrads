{
 "cells": [
  {
   "cell_type": "code",
   "execution_count": 1,
   "id": "a7005738",
   "metadata": {},
   "outputs": [],
   "source": [
    "import numpy as np\n",
    "import matplotlib.pyplot as plt \n",
    "import pandas as pd\n",
    "from scipy.stats import pearsonr\n",
    "from astropy.io import fits\n",
    "from astropy.table import Table\n",
    "from tqdm import tqdm\n",
    "from sklearn.preprocessing import normalize\n",
    "from matplotlib.patches import Circle"
   ]
  },
  {
   "cell_type": "code",
   "execution_count": 2,
   "id": "d9125de9",
   "metadata": {},
   "outputs": [
    {
     "name": "stdout",
     "output_type": "stream",
     "text": [
      "Filename: /Users/lianysfeliciano/Fall_Research_2022/GAMA_VAbtZ4.fits\n",
      "No.    Name      Ver    Type      Cards   Dimensions   Format\n",
      "  0  PRIMARY       1 PrimaryHDU       5   ()      \n",
      "  1  ../tmp/GAMA_VAbtZ4    1 BinTableHDU     30   700731R x 9C   [J, E, I, D, D, D, D, D, E]   \n"
     ]
    }
   ],
   "source": [
    "#Reading In Fits Files \n",
    "path='/Users/lianysfeliciano/Fall_Research_2022/GAMA_VAbtZ4.fits'\n",
    "vd=fits.open(path)\n",
    "len (vd)#Length of file\n",
    "vd.info()# Gives Haader of file "
   ]
  },
  {
   "cell_type": "code",
   "execution_count": null,
   "id": "0327056b",
   "metadata": {},
   "outputs": [],
   "source": [
    "vd.close()#Used to Close Fits File/ Do this after your donw with a file "
   ]
  },
  {
   "cell_type": "code",
   "execution_count": 7,
   "id": "28041721",
   "metadata": {
    "scrolled": true
   },
   "outputs": [],
   "source": [
    "#How to Open Fits with Pandas\n",
    "with fits.open(path) as data:\n",
    "    df = pd.DataFrame(data[0].data)"
   ]
  },
  {
   "cell_type": "code",
   "execution_count": null,
   "id": "03338a40",
   "metadata": {},
   "outputs": [],
   "source": []
  },
  {
   "cell_type": "code",
   "execution_count": null,
   "id": "8631270a",
   "metadata": {},
   "outputs": [],
   "source": []
  }
 ],
 "metadata": {
  "kernelspec": {
   "display_name": "Python 3 (ipykernel)",
   "language": "python",
   "name": "python3"
  },
  "language_info": {
   "codemirror_mode": {
    "name": "ipython",
    "version": 3
   },
   "file_extension": ".py",
   "mimetype": "text/x-python",
   "name": "python",
   "nbconvert_exporter": "python",
   "pygments_lexer": "ipython3",
   "version": "3.9.12"
  }
 },
 "nbformat": 4,
 "nbformat_minor": 5
}
